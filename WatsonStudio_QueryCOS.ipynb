{
 "cells": [
  {
   "cell_type": "code",
   "execution_count": null,
   "metadata": {},
   "outputs": [],
   "source": [
    "val accessKey = \"CHANGEME\"\n",
    "val secretKey = \"CHANGEME\"\n",
    "val bucketName = \"streamingdata\"\n",
    "\n",
    "// arbitrary name for refering to the cos settings from this code\n",
    "val serviceName = \"myservicename\""
   ]
  },
  {
   "cell_type": "code",
   "execution_count": 5,
   "metadata": {},
   "outputs": [
    {
     "data": {
      "text/plain": [
       "Waiting for a Spark session to start..."
      ]
     },
     "metadata": {},
     "output_type": "display_data"
    },
    {
     "data": {
      "text/plain": [
       "s3Url = s3a://streamingdata/\n",
       "schema = StructType(StructField(InvoiceNo,LongType,true), StructField(StockCode,LongType,true), StructField(Description,StringType,true), StructField(Quantity,ShortType,true), StructField(InvoiceDate,LongType,true), StructField(UnitPrice,DoubleType,true), StructField(CustomerID,IntegerType,true), StructField(Country,StringType,true), StructField(LineNo,ShortType,true), StructField(InvoiceTime,StringType,true), StructField(StoreID,ShortType,true), StructField(TransactionID,StringType,true))\n",
       "batchDf = [InvoiceNo: bigint, StockCode: bigint ... 10 more fields]\n"
      ]
     },
     "metadata": {},
     "output_type": "display_data"
    },
    {
     "data": {
      "text/plain": [
       "141719"
      ]
     },
     "execution_count": 5,
     "metadata": {},
     "output_type": "execute_result"
    }
   ],
   "source": [
    "sc.hadoopConfiguration.set(\"fs.s3.impl\", \"org.apache.hadoop.fs.s3a.S3AFileSystem\");\n",
    "sc.hadoopConfiguration.set(\"fs.s3a.access.key\", accessKey)\n",
    "sc.hadoopConfiguration.set(\"fs.s3a.secret.key\", secretKey)\n",
    "sc.hadoopConfiguration.set(\"fs.s3a.endpoint\", \"s3.eu-geo.objectstorage.service.networklayer.com\")\n",
    "\n",
    "val s3Url = s\"s3a://${bucketName}/\"\n",
    "\n",
    "import org.apache.spark.sql.types._\n",
    "\n",
    "val schema = new StructType()\n",
    "    .add(\"InvoiceNo\", LongType)\n",
    "    .add(\"StockCode\", LongType)\n",
    "    .add(\"Description\", StringType)\n",
    "    .add(\"Quantity\", ShortType)\n",
    "    .add(\"InvoiceDate\", LongType)\n",
    "    .add(\"UnitPrice\", DoubleType)\n",
    "    .add(\"CustomerID\", IntegerType)\n",
    "    .add(\"Country\", StringType)\n",
    "    .add(\"LineNo\", ShortType)\n",
    "    .add(\"InvoiceTime\", StringType)\n",
    "    .add(\"StoreID\", ShortType)\n",
    "    .add(\"TransactionID\", StringType)\n",
    "\n",
    "var batchDf = spark.read.schema(schema).json(s\"${s3Url}/data/*\")\n",
    "\n",
    "batchDf.count()"
   ]
  },
  {
   "cell_type": "code",
   "execution_count": 6,
   "metadata": {},
   "outputs": [
    {
     "data": {
      "text/html": [
       "<table>\n",
       "<tr><td>5800582</td><td>22086</td><td>PAPER CHAIN KIT 50'S CHRISTMAS </td><td>80</td><td>1534987140000</td><td>2.55</td><td>14367</td><td>United Kingdom</td><td>1</td><td>01:19:00</td><td>0</td><td>580058210180823</td></tr>\n",
       "<tr><td>5800582</td><td>23199</td><td>JUMBO BAG APPLES</td><td>10</td><td>1534987140000</td><td>2.08</td><td>14367</td><td>United Kingdom</td><td>3</td><td>01:19:00</td><td>0</td><td>580058230180823</td></tr>\n",
       "<tr><td>5800582</td><td>21098</td><td>CHRISTMAS TOILET ROLL</td><td>12</td><td>1534987140000</td><td>1.25</td><td>14367</td><td>United Kingdom</td><td>4</td><td>01:19:00</td><td>0</td><td>580058240180823</td></tr>\n",
       "<tr><td>5376082</td><td>22078</td><td>RIBBON REEL LACE DESIGN </td><td>5</td><td>1534987200000</td><td>2.1</td><td>15024</td><td>United Kingdom</td><td>27</td><td>01:20:00</td><td>0</td><td>5376082270180823</td></tr>\n",
       "<tr><td>5376082</td><td>20685</td><td>DOORMAT RED RETROSPOT</td><td>1</td><td>1534987200000</td><td>7.95</td><td>15024</td><td>United Kingdom</td><td>31</td><td>01:20:00</td><td>0</td><td>5376082310180823</td></tr>\n",
       "</table>"
      ],
      "text/plain": [
       "+---------+-------+---------------------------------+-----+---------------+------+-------+----------------+-----+----------+-----+------------------+\n",
       "| 5800582 | 22086 | PAPER CHAIN KIT 50'S CHRISTMAS  | 80  | 1534987140000 | 2.55 | 14367 | United Kingdom | 1   | 01:19:00 | 0   | 580058210180823  |\n",
       "| 5800582 | 23199 | JUMBO BAG APPLES                | 10  | 1534987140000 | 2.08 | 14367 | United Kingdom | 3   | 01:19:00 | 0   | 580058230180823  |\n",
       "| 5800582 | 21098 | CHRISTMAS TOILET ROLL           | 12  | 1534987140000 | 1.25 | 14367 | United Kingdom | 4   | 01:19:00 | 0   | 580058240180823  |\n",
       "| 5376082 | 22078 | RIBBON REEL LACE DESIGN         | 5   | 1534987200000 | 2.1  | 15024 | United Kingdom | 27  | 01:20:00 | 0   | 5376082270180823 |\n",
       "| 5376082 | 20685 | DOORMAT RED RETROSPOT           | 1   | 1534987200000 | 7.95 | 15024 | United Kingdom | 31  | 01:20:00 | 0   | 5376082310180823 |\n",
       "+---------+-------+---------------------------------+-----+---------------+------+-------+----------------+-----+----------+-----+------------------+"
      ]
     },
     "execution_count": 6,
     "metadata": {},
     "output_type": "execute_result"
    }
   ],
   "source": [
    "batchDf.take(5)"
   ]
  },
  {
   "cell_type": "code",
   "execution_count": null,
   "metadata": {},
   "outputs": [],
   "source": []
  }
 ],
 "metadata": {
  "kernelspec": {
   "display_name": "Scala 2.11 with Spark 2.3 (YARN Client Mode)",
   "language": "scala",
   "name": "scala-spark23"
  },
  "language_info": {
   "codemirror_mode": "text/x-scala",
   "file_extension": ".scala",
   "mimetype": "text/x-scala",
   "name": "scala",
   "pygments_lexer": "scala",
   "version": "2.11.8"
  }
 },
 "nbformat": 4,
 "nbformat_minor": 1
}
